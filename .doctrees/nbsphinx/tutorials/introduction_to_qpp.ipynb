{
 "cells": [
  {
   "cell_type": "markdown",
   "id": "ee4b2e92-85ee-46bd-be2c-3d0ee819d28f",
   "metadata": {
    "editable": true,
    "slideshow": {
     "slide_type": "slide"
    },
    "tags": []
   },
   "source": [
    "# Introduction to `qiskit-pasqal-provider`"
   ]
  },
  {
   "cell_type": "code",
   "execution_count": 1,
   "id": "e06e6f70-7dc0-4dcb-9b06-cf4f741f6f9f",
   "metadata": {
    "editable": true,
    "execution": {
     "iopub.execute_input": "2025-06-05T20:18:10.550336Z",
     "iopub.status.busy": "2025-06-05T20:18:10.550026Z",
     "iopub.status.idle": "2025-06-05T20:18:12.972744Z",
     "shell.execute_reply": "2025-06-05T20:18:12.972077Z"
    },
    "jupyter": {
     "source_hidden": true
    },
    "slideshow": {
     "slide_type": "skip"
    },
    "tags": []
   },
   "outputs": [],
   "source": [
    "import os\n",
    "from copy import deepcopy\n",
    "\n",
    "import numpy as np\n",
    "import matplotlib.pyplot as plt\n",
    "\n",
    "from pulser import Pulse, Sequence, InterpolatedWaveform, AnalogDevice\n",
    "from pulser_simulation import QutipEmulator\n",
    "\n",
    "# define user config\n",
    "user = os.environ.get(\"PASQAL_ID\", None)\n",
    "psswd = os.environ.get(\"PASQAL_CLOUD_PASSWORD\", None)\n",
    "project_id = os.environ.get(\"PASQAL_QISKIT_PROJECT_ID\", None)"
   ]
  },
  {
   "cell_type": "markdown",
   "id": "77829fb9-c31e-46a5-a0bf-f1b57d01337a",
   "metadata": {
    "editable": true,
    "slideshow": {
     "slide_type": "slide"
    },
    "tags": []
   },
   "source": [
    "# QPP\n",
    "\n",
    "`qiskit-pasqal-provider` (QPP) is way for Qiskit users to program Pasqal's analog neutral atoms devices.\n",
    "\n",
    "\n"
   ]
  },
  {
   "cell_type": "markdown",
   "id": "33ef3cdd-546a-45a9-8ba0-8569422841ca",
   "metadata": {
    "editable": true,
    "slideshow": {
     "slide_type": "slide"
    },
    "tags": []
   },
   "source": [
    "## 2. Build circuits with analog gate\n",
    "\n",
    "\n",
    "### 2.1 `HamiltonianGate`\n",
    "\n",
    "The analog gate, `HamiltonianGate`, is defined by the following parameters:\n",
    "\n",
    "- `amplitude`: `InterpolatePoints`\n",
    "  \n",
    "- `detuning`: `InterpolatePoints`\n",
    "- `phase`: `float`, `qiskit`'s `Parameter` or `ParameterExpression`\n",
    "\n",
    "- `coords`: any value pair array-like data\n",
    "\n",
    "- `grid_transform`: one of the following `Literal`: `\"triangular\"`, `\"rectangular\"` or `\"square\"`\n"
   ]
  },
  {
   "cell_type": "markdown",
   "id": "81260d57-8844-43f6-8de8-a229c432c728",
   "metadata": {
    "editable": true,
    "slideshow": {
     "slide_type": "skip"
    },
    "tags": []
   },
   "source": [
    "### 2.2 `InterpolatePoints`\n",
    "\n",
    "It is a class to create interpolate points given an array of values (literal or parametrized)"
   ]
  },
  {
   "cell_type": "code",
   "execution_count": 2,
   "id": "90cc35a2-4ef2-48ac-aea3-6be1f4b88d61",
   "metadata": {
    "editable": true,
    "execution": {
     "iopub.execute_input": "2025-06-05T20:18:12.975030Z",
     "iopub.status.busy": "2025-06-05T20:18:12.974774Z",
     "iopub.status.idle": "2025-06-05T20:18:13.510914Z",
     "shell.execute_reply": "2025-06-05T20:18:13.510238Z"
    },
    "slideshow": {
     "slide_type": "skip"
    },
    "tags": []
   },
   "outputs": [],
   "source": [
    "from qiskit_pasqal_provider.providers.gate import InterpolatePoints"
   ]
  },
  {
   "cell_type": "code",
   "execution_count": 3,
   "id": "88a3d9a6-d41b-4413-a886-ad2a76600dbe",
   "metadata": {
    "editable": true,
    "execution": {
     "iopub.execute_input": "2025-06-05T20:18:13.513441Z",
     "iopub.status.busy": "2025-06-05T20:18:13.513107Z",
     "iopub.status.idle": "2025-06-05T20:18:13.517399Z",
     "shell.execute_reply": "2025-06-05T20:18:13.516711Z"
    },
    "slideshow": {
     "slide_type": "skip"
    },
    "tags": []
   },
   "outputs": [
    {
     "name": "stdout",
     "output_type": "stream",
     "text": [
      "\n",
      "- ampl1.values=array([1, 1, 1, 1])\n",
      "\n",
      "- ampl1.duration=1000\n",
      "\n"
     ]
    }
   ],
   "source": [
    "# literal\n",
    "\n",
    "ampl1 = InterpolatePoints(duration=1000, values=[1, 1, 1, 1])\n",
    "\n",
    "print(f\"\\n- {ampl1.values=}\\n\\n- {ampl1.duration=}\\n\")"
   ]
  },
  {
   "cell_type": "code",
   "execution_count": 4,
   "id": "6cc96baa-d78c-411c-b340-1340c4857c2d",
   "metadata": {
    "editable": true,
    "execution": {
     "iopub.execute_input": "2025-06-05T20:18:13.519585Z",
     "iopub.status.busy": "2025-06-05T20:18:13.519162Z",
     "iopub.status.idle": "2025-06-05T20:18:13.523415Z",
     "shell.execute_reply": "2025-06-05T20:18:13.522787Z"
    },
    "slideshow": {
     "slide_type": "skip"
    },
    "tags": []
   },
   "outputs": [
    {
     "name": "stdout",
     "output_type": "stream",
     "text": [
      "\n",
      "- ampl2.values=array([Parameter(p), Parameter(p), Parameter(p), Parameter(p)],\n",
      "      dtype=object)\n",
      "\n",
      "- ampl2.duration=Parameter(t)\n",
      "\n"
     ]
    }
   ],
   "source": [
    "# parametrized\n",
    "\n",
    "from qiskit.circuit import Parameter\n",
    "\n",
    "\n",
    "p = Parameter(\"p\")\n",
    "t = Parameter(\"t\")\n",
    "\n",
    "ampl2 = InterpolatePoints(duration=t, values=p, n=4)\n",
    "\n",
    "print(f\"\\n- {ampl2.values=}\\n\\n- {ampl2.duration=}\\n\")"
   ]
  },
  {
   "cell_type": "markdown",
   "id": "e57db22d-56b6-4463-b705-7def31ebcd88",
   "metadata": {
    "editable": true,
    "slideshow": {
     "slide_type": "slide"
    },
    "tags": []
   },
   "source": [
    "### 2.3 Defining the coordinates\n",
    "\n",
    "The `coords` argument should be look like a 2D- or 3D-point tuple array."
   ]
  },
  {
   "cell_type": "code",
   "execution_count": 5,
   "id": "d6c6b236-0079-4f6c-8b01-dcbbd7ba856d",
   "metadata": {
    "editable": true,
    "execution": {
     "iopub.execute_input": "2025-06-05T20:18:13.525281Z",
     "iopub.status.busy": "2025-06-05T20:18:13.525093Z",
     "iopub.status.idle": "2025-06-05T20:18:13.528292Z",
     "shell.execute_reply": "2025-06-05T20:18:13.527694Z"
    },
    "slideshow": {
     "slide_type": "skip"
    },
    "tags": []
   },
   "outputs": [],
   "source": [
    "# valid coords\n",
    "\n",
    "coords1 = [(0, 0), (0, 1), (1, 0), (1, 1)]\n",
    "coords2 = [(0, 0, 0), (0, 1, 0), (1, 0, 1), (1, 1, 0)]"
   ]
  },
  {
   "cell_type": "code",
   "execution_count": 6,
   "id": "cdc23894-8915-4cde-8feb-4dcfe90b6bec",
   "metadata": {
    "editable": true,
    "execution": {
     "iopub.execute_input": "2025-06-05T20:18:13.530160Z",
     "iopub.status.busy": "2025-06-05T20:18:13.529978Z",
     "iopub.status.idle": "2025-06-05T20:18:13.533121Z",
     "shell.execute_reply": "2025-06-05T20:18:13.532538Z"
    },
    "slideshow": {
     "slide_type": "skip"
    },
    "tags": []
   },
   "outputs": [],
   "source": [
    "# invalid coords\n",
    "\n",
    "coords3 = []\n",
    "coords4 = [(0,), (1,), (2,), (3,)]"
   ]
  },
  {
   "cell_type": "markdown",
   "id": "583f2fe2-831f-49be-bafe-137f607bc57f",
   "metadata": {
    "editable": true,
    "slideshow": {
     "slide_type": "skip"
    },
    "tags": []
   },
   "source": [
    "\n",
    "**Note**: `coords` data will be validated inside the `HamiltonianGate`. An error will raise if they do not comply with `pulser.Register` requirements.\n",
    "\n",
    "---\n"
   ]
  },
  {
   "cell_type": "markdown",
   "id": "735060ec-92b4-40a2-935e-1e50f94eb2b5",
   "metadata": {
    "editable": true,
    "slideshow": {
     "slide_type": "fragment"
    },
    "tags": []
   },
   "source": [
    "### 2.4 Building the gate"
   ]
  },
  {
   "cell_type": "code",
   "execution_count": 7,
   "id": "817afd96-a112-47e9-85ab-c5c58a2eb068",
   "metadata": {
    "editable": true,
    "execution": {
     "iopub.execute_input": "2025-06-05T20:18:13.534956Z",
     "iopub.status.busy": "2025-06-05T20:18:13.534773Z",
     "iopub.status.idle": "2025-06-05T20:18:13.537811Z",
     "shell.execute_reply": "2025-06-05T20:18:13.537199Z"
    },
    "slideshow": {
     "slide_type": "fragment"
    },
    "tags": []
   },
   "outputs": [],
   "source": [
    "from qiskit_pasqal_provider.providers.gate import HamiltonianGate"
   ]
  },
  {
   "cell_type": "code",
   "execution_count": 8,
   "id": "bf0e329d-46c6-4a1a-8381-fc73c97e4e5b",
   "metadata": {
    "editable": true,
    "execution": {
     "iopub.execute_input": "2025-06-05T20:18:13.539558Z",
     "iopub.status.busy": "2025-06-05T20:18:13.539348Z",
     "iopub.status.idle": "2025-06-05T20:18:13.543882Z",
     "shell.execute_reply": "2025-06-05T20:18:13.543207Z"
    },
    "slideshow": {
     "slide_type": "fragment"
    },
    "tags": []
   },
   "outputs": [
    {
     "name": "stdout",
     "output_type": "stream",
     "text": [
      "Instruction(name='HG', num_qubits=4, num_clbits=0, params=[])\n"
     ]
    }
   ],
   "source": [
    "ampl = InterpolatePoints(duration=1000, values=[1, 1, 1, 1])\n",
    "det = InterpolatePoints(duration=1000, values=[0, 1 / 3, 2 / 3, 1])\n",
    "phase = 0.0\n",
    "\n",
    "\n",
    "hg = HamiltonianGate(\n",
    "    amplitude=ampl, detuning=det, phase=phase, coords=coords1, transform=True\n",
    ")\n",
    "\n",
    "print(hg)"
   ]
  },
  {
   "cell_type": "markdown",
   "id": "24ca67f6-5bba-4bac-bef1-0e9b317ae5c0",
   "metadata": {
    "editable": true,
    "slideshow": {
     "slide_type": "skip"
    },
    "tags": []
   },
   "source": [
    "**Important remarks**:\n",
    "\n",
    "- `HamiltonianGate` is just like any other `qiskit` gate in the sense that is composible by an `Instruction` instance and can be placed inside the `QuantumCircuit`.\n",
    "\n",
    "- The number of qubits are defined by the length of the `coords` argument.\n",
    "\n",
    "- When working with analog gate, **only one gate** can be placed inside the given `QuantumCircuit`, may it be analog or not."
   ]
  },
  {
   "cell_type": "markdown",
   "id": "a25ff8e5-95b1-41d3-878a-5d5e4f4895dd",
   "metadata": {
    "editable": true,
    "slideshow": {
     "slide_type": "slide"
    },
    "tags": []
   },
   "source": [
    "### 2.5 Defining the `QuantumCircuit`\n",
    "\n",
    "A circuit can be built as any other `qiskit` circuit:"
   ]
  },
  {
   "cell_type": "code",
   "execution_count": 9,
   "id": "32a9aaba-e167-4c35-88c6-8cc49d73c58a",
   "metadata": {
    "editable": true,
    "execution": {
     "iopub.execute_input": "2025-06-05T20:18:13.545747Z",
     "iopub.status.busy": "2025-06-05T20:18:13.545567Z",
     "iopub.status.idle": "2025-06-05T20:18:13.548372Z",
     "shell.execute_reply": "2025-06-05T20:18:13.547759Z"
    },
    "slideshow": {
     "slide_type": "fragment"
    },
    "tags": []
   },
   "outputs": [],
   "source": [
    "from qiskit.circuit import QuantumCircuit"
   ]
  },
  {
   "cell_type": "code",
   "execution_count": 10,
   "id": "0a882109-d8bb-4564-aea2-fd9184e565d3",
   "metadata": {
    "editable": true,
    "execution": {
     "iopub.execute_input": "2025-06-05T20:18:13.550100Z",
     "iopub.status.busy": "2025-06-05T20:18:13.549920Z",
     "iopub.status.idle": "2025-06-05T20:18:13.553407Z",
     "shell.execute_reply": "2025-06-05T20:18:13.552846Z"
    },
    "slideshow": {
     "slide_type": "fragment"
    },
    "tags": []
   },
   "outputs": [],
   "source": [
    "# define the size of the circuit according to the coords1 used on HamiltonianGate above\n",
    "\n",
    "qc1 = QuantumCircuit(len(coords1))"
   ]
  },
  {
   "cell_type": "markdown",
   "id": "0600e7d7-6c6a-459d-84d8-1d803920101d",
   "metadata": {
    "editable": true,
    "slideshow": {
     "slide_type": "fragment"
    },
    "tags": []
   },
   "source": [
    "then, append the gate to the defined `qc` circuit:\n"
   ]
  },
  {
   "cell_type": "code",
   "execution_count": 11,
   "id": "1f712707-941e-4423-b745-568830b34c86",
   "metadata": {
    "editable": true,
    "execution": {
     "iopub.execute_input": "2025-06-05T20:18:13.555262Z",
     "iopub.status.busy": "2025-06-05T20:18:13.555079Z",
     "iopub.status.idle": "2025-06-05T20:18:13.560802Z",
     "shell.execute_reply": "2025-06-05T20:18:13.560363Z"
    },
    "slideshow": {
     "slide_type": "fragment"
    },
    "tags": []
   },
   "outputs": [
    {
     "data": {
      "text/plain": [
       "<qiskit.circuit.instructionset.InstructionSet at 0x7f29389b9180>"
      ]
     },
     "execution_count": 11,
     "metadata": {},
     "output_type": "execute_result"
    }
   ],
   "source": [
    "qc1.append(hg, qc1.qubits)"
   ]
  },
  {
   "cell_type": "markdown",
   "id": "c5593dbf-c6dc-408f-8e11-7c679c1cc0a7",
   "metadata": {
    "editable": true,
    "slideshow": {
     "slide_type": "skip"
    },
    "tags": []
   },
   "source": [
    "remarks:\n",
    "\n",
    "- Given the nature of `qiskit` circuits, when appending a new gate, you need to define the number of qubits.\n",
    "\n",
    "- We always use the total number of the qubits given by the coordinates and defined in the `QuantumCircuit`, which is also stored in `QuantumCircuit.qubits` property"
   ]
  },
  {
   "cell_type": "code",
   "execution_count": 12,
   "id": "d11e3f6d-e4cb-43f4-b834-9c8b6859adcf",
   "metadata": {
    "editable": true,
    "execution": {
     "iopub.execute_input": "2025-06-05T20:18:13.562618Z",
     "iopub.status.busy": "2025-06-05T20:18:13.562416Z",
     "iopub.status.idle": "2025-06-05T20:18:13.592202Z",
     "shell.execute_reply": "2025-06-05T20:18:13.591563Z"
    },
    "slideshow": {
     "slide_type": "skip"
    },
    "tags": []
   },
   "outputs": [
    {
     "name": "stderr",
     "output_type": "stream",
     "text": [
      "/home/runner/work/qiskit-pasqal-provider/qiskit-pasqal-provider/.tox/docs/lib/python3.12/site-packages/qiskit/visualization/circuit/text.py:1117: DeprecationWarning: The property ``qiskit.circuit.instruction.Instruction.condition`` is deprecated as of qiskit 1.3.0. It will be removed in 2.0.0.\n",
      "  if getattr(op, \"condition\", None) is not None:\n"
     ]
    },
    {
     "data": {
      "text/html": [
       "<pre style=\"word-wrap: normal;white-space: pre;background: #fff0;line-height: 1.1;font-family: &quot;Courier New&quot;,Courier,monospace\">     ┌─────┐\n",
       "q_0: ┤0    ├\n",
       "     │     │\n",
       "q_1: ┤1    ├\n",
       "     │  Hg │\n",
       "q_2: ┤2    ├\n",
       "     │     │\n",
       "q_3: ┤3    ├\n",
       "     └─────┘</pre>"
      ],
      "text/plain": [
       "     ┌─────┐\n",
       "q_0: ┤0    ├\n",
       "     │     │\n",
       "q_1: ┤1    ├\n",
       "     │  Hg │\n",
       "q_2: ┤2    ├\n",
       "     │     │\n",
       "q_3: ┤3    ├\n",
       "     └─────┘"
      ]
     },
     "execution_count": 12,
     "metadata": {},
     "output_type": "execute_result"
    }
   ],
   "source": [
    "qc1.draw()  # not very exciting, I know"
   ]
  },
  {
   "cell_type": "markdown",
   "id": "5d75e757-0b12-49f6-bec0-53025b1266f5",
   "metadata": {
    "editable": true,
    "slideshow": {
     "slide_type": "skip"
    },
    "tags": []
   },
   "source": [
    "**Important remarks**:\n",
    "\n",
    "- In this analog gate configuration, the actual register (for `pulser` purposes) sits inside the `HamiltonianGate`, not in the `QuantumCircuit`.\n",
    "\n",
    "- The whole dynamics of your algorithm must be done inside the single `HamiltonianGate`, through `InterpolatePoints` functions."
   ]
  },
  {
   "cell_type": "markdown",
   "id": "a6ae4bdd-bfda-4963-89cf-d49b52bc93aa",
   "metadata": {
    "editable": true,
    "slideshow": {
     "slide_type": "skip"
    },
    "tags": []
   },
   "source": [
    "#### 2.5.1 Parametrized `QuantumCircuit`\n",
    "\n",
    "It is possible to do parametrized circuits as well:"
   ]
  },
  {
   "cell_type": "code",
   "execution_count": 13,
   "id": "4a05359f-ab16-4005-afca-2abf8762829b",
   "metadata": {
    "editable": true,
    "execution": {
     "iopub.execute_input": "2025-06-05T20:18:13.594395Z",
     "iopub.status.busy": "2025-06-05T20:18:13.594198Z",
     "iopub.status.idle": "2025-06-05T20:18:14.187348Z",
     "shell.execute_reply": "2025-06-05T20:18:14.186749Z"
    },
    "slideshow": {
     "slide_type": "skip"
    },
    "tags": []
   },
   "outputs": [
    {
     "name": "stderr",
     "output_type": "stream",
     "text": [
      "/home/runner/work/qiskit-pasqal-provider/qiskit-pasqal-provider/.tox/docs/lib/python3.12/site-packages/qiskit/visualization/circuit/text.py:1117: DeprecationWarning: The property ``qiskit.circuit.instruction.Instruction.condition`` is deprecated as of qiskit 1.3.0. It will be removed in 2.0.0.\n",
      "  if getattr(op, \"condition\", None) is not None:\n"
     ]
    },
    {
     "data": {
      "text/html": [
       "<pre style=\"word-wrap: normal;white-space: pre;background: #fff0;line-height: 1.1;font-family: &quot;Courier New&quot;,Courier,monospace\">     ┌──────────┐\n",
       "q_0: ┤0         ├\n",
       "     │          │\n",
       "q_1: ┤1         ├\n",
       "     │  Hg(d,p) │\n",
       "q_2: ┤2         ├\n",
       "     │          │\n",
       "q_3: ┤3         ├\n",
       "     └──────────┘</pre>"
      ],
      "text/plain": [
       "     ┌──────────┐\n",
       "q_0: ┤0         ├\n",
       "     │          │\n",
       "q_1: ┤1         ├\n",
       "     │  Hg(d,p) │\n",
       "q_2: ┤2         ├\n",
       "     │          │\n",
       "q_3: ┤3         ├\n",
       "     └──────────┘"
      ]
     },
     "execution_count": 13,
     "metadata": {},
     "output_type": "execute_result"
    }
   ],
   "source": [
    "p = Parameter(\"p\")\n",
    "d = Parameter(\"d\")\n",
    "\n",
    "ampl2 = InterpolatePoints(duration=1000, values=p, n=4)\n",
    "det2 = InterpolatePoints(duration=1000, values=d, n=4)\n",
    "\n",
    "hg2 = HamiltonianGate(amplitude=ampl2, detuning=det2, phase=phase, coords=coords1)\n",
    "\n",
    "qc2 = QuantumCircuit(len(coords1))\n",
    "qc2.append(hg2, qc2.qubits)\n",
    "qc2.draw()  # at least it shows the parameters"
   ]
  },
  {
   "cell_type": "markdown",
   "id": "e9297d89-c87a-43ee-8aad-a34536045ed9",
   "metadata": {
    "editable": true,
    "slideshow": {
     "slide_type": "slide"
    },
    "tags": []
   },
   "source": [
    "## 3. Create and run a simple program\n",
    "\n",
    "Now, following the `qiskit` formula, we can create and run a program using our analog gate"
   ]
  },
  {
   "cell_type": "markdown",
   "id": "bf677216-1e52-48d3-9051-7a824fb43d34",
   "metadata": {
    "editable": true,
    "slideshow": {
     "slide_type": "fragment"
    },
    "tags": []
   },
   "source": [
    "First, defining the coordinates and drawing how the register will look like"
   ]
  },
  {
   "cell_type": "code",
   "execution_count": 14,
   "id": "7f65d9d0-c280-4ef8-8bd9-6ad5f1a1af35",
   "metadata": {
    "editable": true,
    "execution": {
     "iopub.execute_input": "2025-06-05T20:18:14.189770Z",
     "iopub.status.busy": "2025-06-05T20:18:14.189422Z",
     "iopub.status.idle": "2025-06-05T20:18:14.193096Z",
     "shell.execute_reply": "2025-06-05T20:18:14.192468Z"
    },
    "slideshow": {
     "slide_type": "skip"
    },
    "tags": []
   },
   "outputs": [],
   "source": [
    "from pulser import Register"
   ]
  },
  {
   "cell_type": "code",
   "execution_count": 15,
   "id": "c412113e-2f4f-4c4e-b57f-a6c11ac7b398",
   "metadata": {
    "editable": true,
    "execution": {
     "iopub.execute_input": "2025-06-05T20:18:14.194968Z",
     "iopub.status.busy": "2025-06-05T20:18:14.194782Z",
     "iopub.status.idle": "2025-06-05T20:18:14.198452Z",
     "shell.execute_reply": "2025-06-05T20:18:14.197878Z"
    },
    "slideshow": {
     "slide_type": "fragment"
    },
    "tags": []
   },
   "outputs": [],
   "source": [
    "coords = [[0, 0], [3, 5.2], [6, 0], [9, -5.2], [9, 5.2], [12, 0]]\n",
    "\n",
    "# With a blockade radius of 8.7\n",
    "blockade_radius = 8.7"
   ]
  },
  {
   "cell_type": "code",
   "execution_count": 16,
   "id": "a82092cc-ca28-4847-b7eb-6ac75201e7ae",
   "metadata": {
    "editable": true,
    "execution": {
     "iopub.execute_input": "2025-06-05T20:18:14.200298Z",
     "iopub.status.busy": "2025-06-05T20:18:14.200114Z",
     "iopub.status.idle": "2025-06-05T20:18:14.346363Z",
     "shell.execute_reply": "2025-06-05T20:18:14.345780Z"
    },
    "slideshow": {
     "slide_type": "subslide"
    },
    "tags": []
   },
   "outputs": [
    {
     "name": "stderr",
     "output_type": "stream",
     "text": [
      "/home/runner/work/qiskit-pasqal-provider/qiskit-pasqal-provider/.tox/docs/lib/python3.12/site-packages/pulser/register/register.py:58: DeprecationWarning: Usage of `int`s or any non-`str`types as `QubitId`s will be deprecated. Define your `QubitId`s as `str`s, prefer setting `prefix='q'` when using classmethods, as that will become the new default once `int` qubit IDs become invalid.\n",
      "  super().__init__(qubits, **kwargs)\n"
     ]
    },
    {
     "data": {
      "image/png": "[encoded data removed]",
      "text/plain": [
       "<Figure size 400x346.667 with 1 Axes>"
      ]
     },
     "metadata": {},
     "output_type": "display_data"
    }
   ],
   "source": [
    "# show graph\n",
    "reg = Register.from_coordinates(coords)\n",
    "reg.draw(blockade_radius=blockade_radius)"
   ]
  },
  {
   "cell_type": "markdown",
   "id": "eec13e6d-cd23-48d3-b397-c0fa660f8bee",
   "metadata": {
    "editable": true,
    "slideshow": {
     "slide_type": "slide"
    },
    "tags": []
   },
   "source": [
    "By default, a layout is filled according to the coordinates and the requirements given by the provider instance.\n",
    "\n",
    "But it can be defined explicitly by the user:"
   ]
  },
  {
   "cell_type": "code",
   "execution_count": 17,
   "id": "6a4c99f9-4da7-4b47-b8b4-83808e5a7753",
   "metadata": {
    "editable": true,
    "execution": {
     "iopub.execute_input": "2025-06-05T20:18:14.348636Z",
     "iopub.status.busy": "2025-06-05T20:18:14.348410Z",
     "iopub.status.idle": "2025-06-05T20:18:14.351485Z",
     "shell.execute_reply": "2025-06-05T20:18:14.350888Z"
    },
    "slideshow": {
     "slide_type": "fragment"
    },
    "tags": []
   },
   "outputs": [],
   "source": [
    "from qiskit_pasqal_provider.providers.target import PasqalTarget"
   ]
  },
  {
   "cell_type": "code",
   "execution_count": 18,
   "id": "4c7ff7a2-7e77-4e46-ad30-671e0861d688",
   "metadata": {
    "editable": true,
    "execution": {
     "iopub.execute_input": "2025-06-05T20:18:14.353362Z",
     "iopub.status.busy": "2025-06-05T20:18:14.353178Z",
     "iopub.status.idle": "2025-06-05T20:18:14.356646Z",
     "shell.execute_reply": "2025-06-05T20:18:14.356056Z"
    },
    "slideshow": {
     "slide_type": "fragment"
    },
    "tags": []
   },
   "outputs": [],
   "source": [
    "target = PasqalTarget(layout=None)"
   ]
  },
  {
   "cell_type": "markdown",
   "id": "ce844bfb-7f40-4ee9-a86f-dfc064aa7980",
   "metadata": {
    "editable": true,
    "slideshow": {
     "slide_type": "fragment"
    },
    "tags": []
   },
   "source": [
    "If `layout` argument is none (default), the backend will perform a `register.with_automatic_layout()` call.\n",
    "\n",
    "For more information, request access to the `qiskit-pasqal-provider` repository."
   ]
  },
  {
   "cell_type": "code",
   "execution_count": 19,
   "id": "8354b422-ec1f-41e5-950c-fa855740720e",
   "metadata": {
    "editable": true,
    "execution": {
     "iopub.execute_input": "2025-06-05T20:18:14.358488Z",
     "iopub.status.busy": "2025-06-05T20:18:14.358309Z",
     "iopub.status.idle": "2025-06-05T20:18:14.361169Z",
     "shell.execute_reply": "2025-06-05T20:18:14.360585Z"
    },
    "slideshow": {
     "slide_type": "slide"
    },
    "tags": []
   },
   "outputs": [],
   "source": [
    "from qiskit_pasqal_provider.providers.gate import InterpolatePoints, HamiltonianGate"
   ]
  },
  {
   "cell_type": "code",
   "execution_count": 20,
   "id": "dc9abb1c-4dad-4cad-8831-dfd3016dff24",
   "metadata": {
    "editable": true,
    "execution": {
     "iopub.execute_input": "2025-06-05T20:18:14.363075Z",
     "iopub.status.busy": "2025-06-05T20:18:14.362759Z",
     "iopub.status.idle": "2025-06-05T20:18:14.366322Z",
     "shell.execute_reply": "2025-06-05T20:18:14.365745Z"
    },
    "slideshow": {
     "slide_type": "fragment"
    },
    "tags": []
   },
   "outputs": [],
   "source": [
    "# Calculate interaction strength between nearest-neighbours\n",
    "interaction = 5420158.53 / blockade_radius**6\n",
    "\n",
    "# Set up an adiabatic pulse\n",
    "times = [0, 0.2, 0.8, 1]\n",
    "ampl = InterpolatePoints(values=[0, 4, 4, 0], times=times)\n",
    "det = InterpolatePoints(\n",
    "    values=[-10, -10, interaction / 2, interaction / 2],\n",
    "    times=times,\n",
    ")\n",
    "phase = 0.0"
   ]
  },
  {
   "cell_type": "code",
   "execution_count": 21,
   "id": "74032e8a-b9af-49ab-b656-b872ee7ee751",
   "metadata": {
    "editable": true,
    "execution": {
     "iopub.execute_input": "2025-06-05T20:18:14.368266Z",
     "iopub.status.busy": "2025-06-05T20:18:14.368082Z",
     "iopub.status.idle": "2025-06-05T20:18:14.373352Z",
     "shell.execute_reply": "2025-06-05T20:18:14.372759Z"
    },
    "slideshow": {
     "slide_type": "fragment"
    },
    "tags": []
   },
   "outputs": [
    {
     "data": {
      "text/plain": [
       "<qiskit.circuit.instructionset.InstructionSet at 0x7f29377db8e0>"
      ]
     },
     "execution_count": 21,
     "metadata": {},
     "output_type": "execute_result"
    }
   ],
   "source": [
    "# analog gate\n",
    "gate = HamiltonianGate(ampl, det, phase, coords, grid_transform=\"triangular\")\n",
    "\n",
    "# qiskit circuit with analog gate\n",
    "qc = QuantumCircuit(len(coords))\n",
    "qc.append(gate, qc.qubits)"
   ]
  },
  {
   "cell_type": "markdown",
   "id": "15a84ef7-6025-4333-9edb-bd7c18ba08e9",
   "metadata": {
    "editable": true,
    "slideshow": {
     "slide_type": "slide"
    },
    "tags": []
   },
   "source": [
    "### 3.1 Running on pure `pulser` for comparison\n",
    "\n",
    "Utilizing the code above for pulser"
   ]
  },
  {
   "cell_type": "code",
   "execution_count": 22,
   "id": "b7c7a971-9586-4f10-b33d-f87c7af862e0",
   "metadata": {
    "editable": true,
    "execution": {
     "iopub.execute_input": "2025-06-05T20:18:14.375197Z",
     "iopub.status.busy": "2025-06-05T20:18:14.375018Z",
     "iopub.status.idle": "2025-06-05T20:18:14.428324Z",
     "shell.execute_reply": "2025-06-05T20:18:14.427685Z"
    },
    "slideshow": {
     "slide_type": "fragment"
    },
    "tags": []
   },
   "outputs": [],
   "source": [
    "ampl_p = InterpolatedWaveform(1000, [0, 4, 4, 0], times=times)\n",
    "det_p = InterpolatedWaveform(\n",
    "    1000, [-10, -10, interaction / 2, interaction / 2], times=times\n",
    ")\n",
    "phase_p = 0.0\n",
    "\n",
    "pulse = Pulse(ampl_p, det_p, phase_p)\n",
    "\n",
    "seq = Sequence(reg, AnalogDevice)\n",
    "seq.declare_channel(\"rydberg_global\", \"rydberg_global\")\n",
    "seq.add(pulse, \"rydberg_global\")\n",
    "bkd = QutipEmulator.from_sequence(seq)\n",
    "results = bkd.run()\n",
    "\n",
    "pulser_res = results.sample_final_state()"
   ]
  },
  {
   "cell_type": "code",
   "execution_count": 23,
   "id": "8106a5ae-651d-4495-a41d-58473180055e",
   "metadata": {
    "editable": true,
    "execution": {
     "iopub.execute_input": "2025-06-05T20:18:14.430569Z",
     "iopub.status.busy": "2025-06-05T20:18:14.430338Z",
     "iopub.status.idle": "2025-06-05T20:18:14.433453Z",
     "shell.execute_reply": "2025-06-05T20:18:14.432833Z"
    },
    "slideshow": {
     "slide_type": "skip"
    },
    "tags": []
   },
   "outputs": [],
   "source": [
    "from qiskit_pasqal_provider.providers.provider import PasqalProvider\n",
    "from qiskit_pasqal_provider.providers.sampler import Sampler"
   ]
  },
  {
   "cell_type": "markdown",
   "id": "9cd71e59-121e-4f60-952e-4b059def4cb9",
   "metadata": {
    "editable": true,
    "slideshow": {
     "slide_type": "slide"
    },
    "tags": []
   },
   "source": [
    "### 3.2 Running examples on different devices"
   ]
  },
  {
   "cell_type": "markdown",
   "id": "2e4f32d2-a430-4a8a-b895-7249af99ff27",
   "metadata": {
    "editable": true,
    "slideshow": {
     "slide_type": "skip"
    },
    "tags": []
   },
   "source": [
    "\n",
    "Following `qiskit` convention, a provider consists in the service that contains the backend, target (device) and additional information, such as remote configuration.\n",
    "\n",
    "There is two possible ways to execute a circuit and extract results from it: estimator and sampler. `QPP` _only uses sampler approach for now_.\n",
    "\n",
    "From the sampler object, it is possible to run a circuit and get its results as `qiskit` result object.\n",
    "\n",
    "To retrieve the counts, just use `result[0].data.counts`."
   ]
  },
  {
   "cell_type": "markdown",
   "id": "9667495e-8b10-4eaa-b29e-c321951de353",
   "metadata": {
    "editable": true,
    "slideshow": {
     "slide_type": "fragment"
    },
    "tags": []
   },
   "source": [
    "#### 3.2.1 Local emulator: `QuTip`"
   ]
  },
  {
   "cell_type": "code",
   "execution_count": 24,
   "id": "ebcc206e-14a7-46a8-8c4d-4a80ef5c9c66",
   "metadata": {
    "editable": true,
    "execution": {
     "iopub.execute_input": "2025-06-05T20:18:14.435564Z",
     "iopub.status.busy": "2025-06-05T20:18:14.435356Z",
     "iopub.status.idle": "2025-06-05T20:18:14.484195Z",
     "shell.execute_reply": "2025-06-05T20:18:14.483556Z"
    },
    "slideshow": {
     "slide_type": "fragment"
    },
    "tags": []
   },
   "outputs": [],
   "source": [
    "qc_qutip = deepcopy(qc)\n",
    "\n",
    "provider_qutip = PasqalProvider()\n",
    "backend_qutip = provider_qutip.get_backend(\"qutip\")\n",
    "sampler_qutip = Sampler(backend_qutip)\n",
    "results_qutip = sampler_qutip.run([qc_qutip], shots=2000).result()\n",
    "\n",
    "res_qutip = results_qutip[0].data.counts"
   ]
  },
  {
   "cell_type": "markdown",
   "id": "7add30ec-0580-4243-a69e-d80879d43b1f",
   "metadata": {
    "editable": true,
    "slideshow": {
     "slide_type": "fragment"
    },
    "tags": []
   },
   "source": [
    "#### 3.2.2 Local emulator: `Emu-MPS`"
   ]
  },
  {
   "cell_type": "code",
   "execution_count": 25,
   "id": "e783c983-dcb5-4d36-b2f6-51a3f3053f4a",
   "metadata": {
    "collapsed": true,
    "editable": true,
    "execution": {
     "iopub.execute_input": "2025-06-05T20:18:14.486425Z",
     "iopub.status.busy": "2025-06-05T20:18:14.486229Z",
     "iopub.status.idle": "2025-06-05T20:18:18.967100Z",
     "shell.execute_reply": "2025-06-05T20:18:18.966473Z"
    },
    "jupyter": {
     "outputs_hidden": true
    },
    "scrolled": true,
    "slideshow": {
     "slide_type": "fragment"
    },
    "tags": []
   },
   "outputs": [
    {
     "name": "stdout",
     "output_type": "stream",
     "text": [
      "step = 1/100, χ = 1, |ψ| = 0.000 MB, RSS = 692.484 MB, Δt = 0.127 s\n"
     ]
    },
    {
     "name": "stdout",
     "output_type": "stream",
     "text": [
      "step = 2/100, χ = 1, |ψ| = 0.000 MB, RSS = 692.484 MB, Δt = 0.026 s\n"
     ]
    },
    {
     "name": "stdout",
     "output_type": "stream",
     "text": [
      "step = 3/100, χ = 1, |ψ| = 0.000 MB, RSS = 692.484 MB, Δt = 0.027 s\n"
     ]
    },
    {
     "name": "stdout",
     "output_type": "stream",
     "text": [
      "step = 4/100, χ = 2, |ψ| = 0.000 MB, RSS = 692.612 MB, Δt = 0.027 s\n"
     ]
    },
    {
     "name": "stdout",
     "output_type": "stream",
     "text": [
      "step = 5/100, χ = 3, |ψ| = 0.001 MB, RSS = 692.612 MB, Δt = 0.037 s\n"
     ]
    },
    {
     "name": "stdout",
     "output_type": "stream",
     "text": [
      "step = 6/100, χ = 3, |ψ| = 0.001 MB, RSS = 692.612 MB, Δt = 0.041 s\n"
     ]
    },
    {
     "name": "stdout",
     "output_type": "stream",
     "text": [
      "step = 7/100, χ = 3, |ψ| = 0.001 MB, RSS = 692.612 MB, Δt = 0.041 s\n"
     ]
    },
    {
     "name": "stdout",
     "output_type": "stream",
     "text": [
      "step = 8/100, χ = 3, |ψ| = 0.001 MB, RSS = 692.612 MB, Δt = 0.042 s\n"
     ]
    },
    {
     "name": "stdout",
     "output_type": "stream",
     "text": [
      "step = 9/100, χ = 3, |ψ| = 0.001 MB, RSS = 692.612 MB, Δt = 0.042 s\n"
     ]
    },
    {
     "name": "stdout",
     "output_type": "stream",
     "text": [
      "step = 10/100, χ = 3, |ψ| = 0.001 MB, RSS = 692.612 MB, Δt = 0.042 s\n"
     ]
    },
    {
     "name": "stdout",
     "output_type": "stream",
     "text": [
      "step = 11/100, χ = 4, |ψ| = 0.001 MB, RSS = 692.612 MB, Δt = 0.042 s\n"
     ]
    },
    {
     "name": "stdout",
     "output_type": "stream",
     "text": [
      "step = 12/100, χ = 4, |ψ| = 0.001 MB, RSS = 692.612 MB, Δt = 0.042 s\n"
     ]
    },
    {
     "name": "stdout",
     "output_type": "stream",
     "text": [
      "step = 13/100, χ = 4, |ψ| = 0.001 MB, RSS = 692.612 MB, Δt = 0.042 s\n"
     ]
    },
    {
     "name": "stdout",
     "output_type": "stream",
     "text": [
      "step = 14/100, χ = 4, |ψ| = 0.001 MB, RSS = 692.612 MB, Δt = 0.046 s\n"
     ]
    },
    {
     "name": "stdout",
     "output_type": "stream",
     "text": [
      "step = 15/100, χ = 5, |ψ| = 0.002 MB, RSS = 693.056 MB, Δt = 0.042 s\n"
     ]
    },
    {
     "name": "stdout",
     "output_type": "stream",
     "text": [
      "step = 16/100, χ = 5, |ψ| = 0.002 MB, RSS = 693.056 MB, Δt = 0.042 s\n"
     ]
    },
    {
     "name": "stdout",
     "output_type": "stream",
     "text": [
      "step = 17/100, χ = 5, |ψ| = 0.002 MB, RSS = 693.056 MB, Δt = 0.042 s\n"
     ]
    },
    {
     "name": "stdout",
     "output_type": "stream",
     "text": [
      "step = 18/100, χ = 5, |ψ| = 0.002 MB, RSS = 693.056 MB, Δt = 0.042 s\n"
     ]
    },
    {
     "name": "stdout",
     "output_type": "stream",
     "text": [
      "step = 19/100, χ = 5, |ψ| = 0.002 MB, RSS = 693.056 MB, Δt = 0.042 s\n"
     ]
    },
    {
     "name": "stdout",
     "output_type": "stream",
     "text": [
      "step = 20/100, χ = 5, |ψ| = 0.002 MB, RSS = 693.056 MB, Δt = 0.042 s\n"
     ]
    },
    {
     "name": "stdout",
     "output_type": "stream",
     "text": [
      "step = 21/100, χ = 6, |ψ| = 0.002 MB, RSS = 693.440 MB, Δt = 0.042 s\n"
     ]
    },
    {
     "name": "stdout",
     "output_type": "stream",
     "text": [
      "step = 22/100, χ = 6, |ψ| = 0.002 MB, RSS = 693.440 MB, Δt = 0.042 s\n"
     ]
    },
    {
     "name": "stdout",
     "output_type": "stream",
     "text": [
      "step = 23/100, χ = 6, |ψ| = 0.002 MB, RSS = 693.440 MB, Δt = 0.042 s\n"
     ]
    },
    {
     "name": "stdout",
     "output_type": "stream",
     "text": [
      "step = 24/100, χ = 6, |ψ| = 0.002 MB, RSS = 693.440 MB, Δt = 0.043 s\n"
     ]
    },
    {
     "name": "stdout",
     "output_type": "stream",
     "text": [
      "step = 25/100, χ = 6, |ψ| = 0.002 MB, RSS = 693.440 MB, Δt = 0.043 s\n"
     ]
    },
    {
     "name": "stdout",
     "output_type": "stream",
     "text": [
      "step = 26/100, χ = 6, |ψ| = 0.002 MB, RSS = 693.440 MB, Δt = 0.043 s\n"
     ]
    },
    {
     "name": "stdout",
     "output_type": "stream",
     "text": [
      "step = 27/100, χ = 7, |ψ| = 0.002 MB, RSS = 693.440 MB, Δt = 0.042 s\n"
     ]
    },
    {
     "name": "stdout",
     "output_type": "stream",
     "text": [
      "step = 28/100, χ = 7, |ψ| = 0.002 MB, RSS = 693.440 MB, Δt = 0.042 s\n"
     ]
    },
    {
     "name": "stdout",
     "output_type": "stream",
     "text": [
      "step = 29/100, χ = 7, |ψ| = 0.002 MB, RSS = 693.440 MB, Δt = 0.043 s\n"
     ]
    },
    {
     "name": "stdout",
     "output_type": "stream",
     "text": [
      "step = 30/100, χ = 7, |ψ| = 0.002 MB, RSS = 693.440 MB, Δt = 0.042 s\n"
     ]
    },
    {
     "name": "stdout",
     "output_type": "stream",
     "text": [
      "step = 31/100, χ = 7, |ψ| = 0.002 MB, RSS = 693.440 MB, Δt = 0.042 s\n"
     ]
    },
    {
     "name": "stdout",
     "output_type": "stream",
     "text": [
      "step = 32/100, χ = 7, |ψ| = 0.002 MB, RSS = 693.440 MB, Δt = 0.042 s\n"
     ]
    },
    {
     "name": "stdout",
     "output_type": "stream",
     "text": [
      "step = 33/100, χ = 7, |ψ| = 0.002 MB, RSS = 693.440 MB, Δt = 0.042 s\n"
     ]
    },
    {
     "name": "stdout",
     "output_type": "stream",
     "text": [
      "step = 34/100, χ = 7, |ψ| = 0.002 MB, RSS = 693.440 MB, Δt = 0.043 s\n"
     ]
    },
    {
     "name": "stdout",
     "output_type": "stream",
     "text": [
      "step = 35/100, χ = 7, |ψ| = 0.002 MB, RSS = 693.440 MB, Δt = 0.042 s\n"
     ]
    },
    {
     "name": "stdout",
     "output_type": "stream",
     "text": [
      "step = 36/100, χ = 7, |ψ| = 0.002 MB, RSS = 693.440 MB, Δt = 0.043 s\n"
     ]
    },
    {
     "name": "stdout",
     "output_type": "stream",
     "text": [
      "step = 37/100, χ = 7, |ψ| = 0.002 MB, RSS = 693.440 MB, Δt = 0.041 s\n"
     ]
    },
    {
     "name": "stdout",
     "output_type": "stream",
     "text": [
      "step = 38/100, χ = 7, |ψ| = 0.002 MB, RSS = 693.440 MB, Δt = 0.046 s\n"
     ]
    },
    {
     "name": "stdout",
     "output_type": "stream",
     "text": [
      "step = 39/100, χ = 7, |ψ| = 0.002 MB, RSS = 693.440 MB, Δt = 0.042 s\n"
     ]
    },
    {
     "name": "stdout",
     "output_type": "stream",
     "text": [
      "step = 40/100, χ = 7, |ψ| = 0.002 MB, RSS = 693.440 MB, Δt = 0.042 s\n"
     ]
    },
    {
     "name": "stdout",
     "output_type": "stream",
     "text": [
      "step = 41/100, χ = 7, |ψ| = 0.002 MB, RSS = 693.440 MB, Δt = 0.042 s\n"
     ]
    },
    {
     "name": "stdout",
     "output_type": "stream",
     "text": [
      "step = 42/100, χ = 7, |ψ| = 0.002 MB, RSS = 693.440 MB, Δt = 0.042 s\n"
     ]
    },
    {
     "name": "stdout",
     "output_type": "stream",
     "text": [
      "step = 43/100, χ = 7, |ψ| = 0.002 MB, RSS = 693.440 MB, Δt = 0.042 s\n"
     ]
    },
    {
     "name": "stdout",
     "output_type": "stream",
     "text": [
      "step = 44/100, χ = 7, |ψ| = 0.002 MB, RSS = 693.440 MB, Δt = 0.042 s\n"
     ]
    },
    {
     "name": "stdout",
     "output_type": "stream",
     "text": [
      "step = 45/100, χ = 7, |ψ| = 0.002 MB, RSS = 693.440 MB, Δt = 0.042 s\n"
     ]
    },
    {
     "name": "stdout",
     "output_type": "stream",
     "text": [
      "step = 46/100, χ = 7, |ψ| = 0.002 MB, RSS = 693.440 MB, Δt = 0.041 s\n"
     ]
    },
    {
     "name": "stdout",
     "output_type": "stream",
     "text": [
      "step = 47/100, χ = 7, |ψ| = 0.002 MB, RSS = 693.440 MB, Δt = 0.041 s\n"
     ]
    },
    {
     "name": "stdout",
     "output_type": "stream",
     "text": [
      "step = 48/100, χ = 7, |ψ| = 0.002 MB, RSS = 693.440 MB, Δt = 0.042 s\n"
     ]
    },
    {
     "name": "stdout",
     "output_type": "stream",
     "text": [
      "step = 49/100, χ = 7, |ψ| = 0.002 MB, RSS = 693.440 MB, Δt = 0.040 s\n"
     ]
    },
    {
     "name": "stdout",
     "output_type": "stream",
     "text": [
      "step = 50/100, χ = 7, |ψ| = 0.002 MB, RSS = 693.440 MB, Δt = 0.038 s\n"
     ]
    },
    {
     "name": "stdout",
     "output_type": "stream",
     "text": [
      "step = 51/100, χ = 7, |ψ| = 0.002 MB, RSS = 693.440 MB, Δt = 0.039 s\n"
     ]
    },
    {
     "name": "stdout",
     "output_type": "stream",
     "text": [
      "step = 52/100, χ = 7, |ψ| = 0.002 MB, RSS = 693.440 MB, Δt = 0.038 s\n"
     ]
    },
    {
     "name": "stdout",
     "output_type": "stream",
     "text": [
      "step = 53/100, χ = 7, |ψ| = 0.002 MB, RSS = 693.440 MB, Δt = 0.038 s\n"
     ]
    },
    {
     "name": "stdout",
     "output_type": "stream",
     "text": [
      "step = 54/100, χ = 7, |ψ| = 0.002 MB, RSS = 693.440 MB, Δt = 0.038 s\n"
     ]
    },
    {
     "name": "stdout",
     "output_type": "stream",
     "text": [
      "step = 55/100, χ = 7, |ψ| = 0.002 MB, RSS = 693.440 MB, Δt = 0.039 s\n"
     ]
    },
    {
     "name": "stdout",
     "output_type": "stream",
     "text": [
      "step = 56/100, χ = 7, |ψ| = 0.002 MB, RSS = 693.440 MB, Δt = 0.036 s\n"
     ]
    },
    {
     "name": "stdout",
     "output_type": "stream",
     "text": [
      "step = 57/100, χ = 7, |ψ| = 0.002 MB, RSS = 693.440 MB, Δt = 0.033 s\n"
     ]
    },
    {
     "name": "stdout",
     "output_type": "stream",
     "text": [
      "step = 58/100, χ = 7, |ψ| = 0.002 MB, RSS = 693.440 MB, Δt = 0.033 s\n"
     ]
    },
    {
     "name": "stdout",
     "output_type": "stream",
     "text": [
      "step = 59/100, χ = 7, |ψ| = 0.002 MB, RSS = 693.440 MB, Δt = 0.034 s\n"
     ]
    },
    {
     "name": "stdout",
     "output_type": "stream",
     "text": [
      "step = 60/100, χ = 7, |ψ| = 0.002 MB, RSS = 693.440 MB, Δt = 0.034 s\n"
     ]
    },
    {
     "name": "stdout",
     "output_type": "stream",
     "text": [
      "step = 61/100, χ = 6, |ψ| = 0.002 MB, RSS = 693.440 MB, Δt = 0.041 s\n"
     ]
    },
    {
     "name": "stdout",
     "output_type": "stream",
     "text": [
      "step = 62/100, χ = 6, |ψ| = 0.002 MB, RSS = 693.440 MB, Δt = 0.041 s\n"
     ]
    },
    {
     "name": "stdout",
     "output_type": "stream",
     "text": [
      "step = 63/100, χ = 6, |ψ| = 0.002 MB, RSS = 693.440 MB, Δt = 0.045 s\n"
     ]
    },
    {
     "name": "stdout",
     "output_type": "stream",
     "text": [
      "step = 64/100, χ = 6, |ψ| = 0.002 MB, RSS = 693.440 MB, Δt = 0.042 s\n"
     ]
    },
    {
     "name": "stdout",
     "output_type": "stream",
     "text": [
      "step = 65/100, χ = 7, |ψ| = 0.002 MB, RSS = 693.440 MB, Δt = 0.041 s\n"
     ]
    },
    {
     "name": "stdout",
     "output_type": "stream",
     "text": [
      "step = 66/100, χ = 7, |ψ| = 0.002 MB, RSS = 693.440 MB, Δt = 0.042 s\n"
     ]
    },
    {
     "name": "stdout",
     "output_type": "stream",
     "text": [
      "step = 67/100, χ = 7, |ψ| = 0.002 MB, RSS = 693.440 MB, Δt = 0.042 s\n"
     ]
    },
    {
     "name": "stdout",
     "output_type": "stream",
     "text": [
      "step = 68/100, χ = 7, |ψ| = 0.002 MB, RSS = 693.440 MB, Δt = 0.042 s\n"
     ]
    },
    {
     "name": "stdout",
     "output_type": "stream",
     "text": [
      "step = 69/100, χ = 7, |ψ| = 0.002 MB, RSS = 693.440 MB, Δt = 0.042 s\n"
     ]
    },
    {
     "name": "stdout",
     "output_type": "stream",
     "text": [
      "step = 70/100, χ = 7, |ψ| = 0.002 MB, RSS = 693.440 MB, Δt = 0.042 s\n"
     ]
    },
    {
     "name": "stdout",
     "output_type": "stream",
     "text": [
      "step = 71/100, χ = 7, |ψ| = 0.002 MB, RSS = 693.440 MB, Δt = 0.041 s\n"
     ]
    },
    {
     "name": "stdout",
     "output_type": "stream",
     "text": [
      "step = 72/100, χ = 7, |ψ| = 0.002 MB, RSS = 693.440 MB, Δt = 0.043 s\n"
     ]
    },
    {
     "name": "stdout",
     "output_type": "stream",
     "text": [
      "step = 73/100, χ = 7, |ψ| = 0.002 MB, RSS = 693.440 MB, Δt = 0.042 s\n"
     ]
    },
    {
     "name": "stdout",
     "output_type": "stream",
     "text": [
      "step = 74/100, χ = 7, |ψ| = 0.002 MB, RSS = 693.440 MB, Δt = 0.042 s\n"
     ]
    },
    {
     "name": "stdout",
     "output_type": "stream",
     "text": [
      "step = 75/100, χ = 7, |ψ| = 0.002 MB, RSS = 693.440 MB, Δt = 0.042 s\n"
     ]
    },
    {
     "name": "stdout",
     "output_type": "stream",
     "text": [
      "step = 76/100, χ = 7, |ψ| = 0.002 MB, RSS = 693.440 MB, Δt = 0.042 s\n"
     ]
    },
    {
     "name": "stdout",
     "output_type": "stream",
     "text": [
      "step = 77/100, χ = 7, |ψ| = 0.002 MB, RSS = 693.440 MB, Δt = 0.042 s\n"
     ]
    },
    {
     "name": "stdout",
     "output_type": "stream",
     "text": [
      "step = 78/100, χ = 7, |ψ| = 0.002 MB, RSS = 693.440 MB, Δt = 0.042 s\n"
     ]
    },
    {
     "name": "stdout",
     "output_type": "stream",
     "text": [
      "step = 79/100, χ = 7, |ψ| = 0.002 MB, RSS = 693.440 MB, Δt = 0.042 s\n"
     ]
    },
    {
     "name": "stdout",
     "output_type": "stream",
     "text": [
      "step = 80/100, χ = 7, |ψ| = 0.002 MB, RSS = 693.440 MB, Δt = 0.042 s\n"
     ]
    },
    {
     "name": "stdout",
     "output_type": "stream",
     "text": [
      "step = 81/100, χ = 7, |ψ| = 0.002 MB, RSS = 693.440 MB, Δt = 0.042 s\n"
     ]
    },
    {
     "name": "stdout",
     "output_type": "stream",
     "text": [
      "step = 82/100, χ = 7, |ψ| = 0.002 MB, RSS = 693.440 MB, Δt = 0.042 s\n"
     ]
    },
    {
     "name": "stdout",
     "output_type": "stream",
     "text": [
      "step = 83/100, χ = 7, |ψ| = 0.002 MB, RSS = 693.440 MB, Δt = 0.042 s\n"
     ]
    },
    {
     "name": "stdout",
     "output_type": "stream",
     "text": [
      "step = 84/100, χ = 7, |ψ| = 0.002 MB, RSS = 693.440 MB, Δt = 0.042 s\n"
     ]
    },
    {
     "name": "stdout",
     "output_type": "stream",
     "text": [
      "step = 85/100, χ = 7, |ψ| = 0.002 MB, RSS = 693.440 MB, Δt = 0.043 s\n"
     ]
    },
    {
     "name": "stdout",
     "output_type": "stream",
     "text": [
      "step = 86/100, χ = 7, |ψ| = 0.002 MB, RSS = 693.440 MB, Δt = 0.044 s\n"
     ]
    },
    {
     "name": "stdout",
     "output_type": "stream",
     "text": [
      "step = 87/100, χ = 7, |ψ| = 0.002 MB, RSS = 693.440 MB, Δt = 0.047 s\n"
     ]
    },
    {
     "name": "stdout",
     "output_type": "stream",
     "text": [
      "step = 88/100, χ = 7, |ψ| = 0.002 MB, RSS = 693.440 MB, Δt = 0.043 s\n"
     ]
    },
    {
     "name": "stdout",
     "output_type": "stream",
     "text": [
      "step = 89/100, χ = 7, |ψ| = 0.002 MB, RSS = 693.440 MB, Δt = 0.042 s\n"
     ]
    },
    {
     "name": "stdout",
     "output_type": "stream",
     "text": [
      "step = 90/100, χ = 7, |ψ| = 0.002 MB, RSS = 693.440 MB, Δt = 0.044 s\n"
     ]
    },
    {
     "name": "stdout",
     "output_type": "stream",
     "text": [
      "step = 91/100, χ = 7, |ψ| = 0.002 MB, RSS = 693.440 MB, Δt = 0.043 s\n"
     ]
    },
    {
     "name": "stdout",
     "output_type": "stream",
     "text": [
      "step = 92/100, χ = 7, |ψ| = 0.002 MB, RSS = 693.440 MB, Δt = 0.043 s\n"
     ]
    },
    {
     "name": "stdout",
     "output_type": "stream",
     "text": [
      "step = 93/100, χ = 7, |ψ| = 0.002 MB, RSS = 693.440 MB, Δt = 0.043 s\n"
     ]
    },
    {
     "name": "stdout",
     "output_type": "stream",
     "text": [
      "step = 94/100, χ = 7, |ψ| = 0.002 MB, RSS = 693.440 MB, Δt = 0.043 s\n"
     ]
    },
    {
     "name": "stdout",
     "output_type": "stream",
     "text": [
      "step = 95/100, χ = 7, |ψ| = 0.002 MB, RSS = 693.440 MB, Δt = 0.044 s\n"
     ]
    },
    {
     "name": "stdout",
     "output_type": "stream",
     "text": [
      "step = 96/100, χ = 7, |ψ| = 0.002 MB, RSS = 693.440 MB, Δt = 0.043 s\n"
     ]
    },
    {
     "name": "stdout",
     "output_type": "stream",
     "text": [
      "step = 97/100, χ = 7, |ψ| = 0.002 MB, RSS = 693.440 MB, Δt = 0.043 s\n"
     ]
    },
    {
     "name": "stdout",
     "output_type": "stream",
     "text": [
      "step = 98/100, χ = 7, |ψ| = 0.002 MB, RSS = 693.440 MB, Δt = 0.044 s\n"
     ]
    },
    {
     "name": "stdout",
     "output_type": "stream",
     "text": [
      "step = 99/100, χ = 7, |ψ| = 0.002 MB, RSS = 693.440 MB, Δt = 0.043 s\n"
     ]
    },
    {
     "name": "stdout",
     "output_type": "stream",
     "text": [
      "step = 100/100, χ = 7, |ψ| = 0.002 MB, RSS = 694.336 MB, Δt = 0.205 s\n"
     ]
    }
   ],
   "source": [
    "qc_mps = deepcopy(qc)\n",
    "\n",
    "provider_mps = PasqalProvider()\n",
    "backend_mps = provider_mps.get_backend(\"emu-mps\")\n",
    "sampler_mps = Sampler(backend_mps)\n",
    "results_mps = sampler_mps.run([qc_mps], shots=2000).result()\n",
    "\n",
    "res_mps = results_mps[0].data.counts"
   ]
  },
  {
   "cell_type": "markdown",
   "id": "22bab793-8f70-4308-9e9f-e931a1be4cf5",
   "metadata": {
    "editable": true,
    "slideshow": {
     "slide_type": "slide"
    },
    "tags": []
   },
   "source": [
    "### Remote execution\n",
    "\n",
    "Remote execution requires a `RemoteConfig` object to be placed on `PasqalProvider`. It must contain at least the username, project id and password.\n",
    "\n",
    "The code is exactly the same otherwise."
   ]
  },
  {
   "cell_type": "code",
   "execution_count": 26,
   "id": "311e40df-4fc8-4d42-ba33-3090913cb203",
   "metadata": {
    "editable": true,
    "execution": {
     "iopub.execute_input": "2025-06-05T20:18:18.969203Z",
     "iopub.status.busy": "2025-06-05T20:18:18.969011Z",
     "iopub.status.idle": "2025-06-05T20:18:18.972149Z",
     "shell.execute_reply": "2025-06-05T20:18:18.971568Z"
    },
    "slideshow": {
     "slide_type": "fragment"
    },
    "tags": []
   },
   "outputs": [],
   "source": [
    "from qiskit_pasqal_provider.utils import RemoteConfig\n",
    "\n",
    "config = RemoteConfig(username=user, password=psswd, project_id=project_id)"
   ]
  },
  {
   "cell_type": "markdown",
   "id": "1941fa56-f4a0-4ea5-812d-41f35af0fbcd",
   "metadata": {
    "editable": true,
    "slideshow": {
     "slide_type": "slide"
    },
    "tags": []
   },
   "source": [
    "#### 3.2.3 Remote emulator: `Emu-Free`"
   ]
  },
  {
   "cell_type": "code",
   "execution_count": 27,
   "id": "8fa8f301-c01f-4d9d-beef-67f0cb8588f4",
   "metadata": {
    "editable": true,
    "execution": {
     "iopub.execute_input": "2025-06-05T20:18:18.973997Z",
     "iopub.status.busy": "2025-06-05T20:18:18.973814Z",
     "iopub.status.idle": "2025-06-05T20:18:18.977155Z",
     "shell.execute_reply": "2025-06-05T20:18:18.976571Z"
    },
    "slideshow": {
     "slide_type": "fragment"
    },
    "tags": []
   },
   "outputs": [],
   "source": [
    "if config.username:\n",
    "    qc_free = deepcopy(qc)\n",
    "\n",
    "    provider_free = PasqalProvider(remote_config=config)\n",
    "    backend_free = provider_free.get_backend(\"remote-emu-free\")\n",
    "    sampler_free = Sampler(backend_free)\n",
    "    results_free = sampler_free.run([qc_free], shots=2000).result()\n",
    "\n",
    "    res_free = results_free[0].data.counts"
   ]
  },
  {
   "cell_type": "markdown",
   "id": "9731c05e-eabf-4243-a70e-095b91c6c0b6",
   "metadata": {
    "editable": true,
    "slideshow": {
     "slide_type": "fragment"
    },
    "tags": []
   },
   "source": [
    "#### 3.2.4 Remote emulator: `Emu-Fresnel`"
   ]
  },
  {
   "cell_type": "code",
   "execution_count": 28,
   "id": "3e3cf4ff-f720-4d37-98db-4e2c658143be",
   "metadata": {
    "editable": true,
    "execution": {
     "iopub.execute_input": "2025-06-05T20:18:18.978973Z",
     "iopub.status.busy": "2025-06-05T20:18:18.978767Z",
     "iopub.status.idle": "2025-06-05T20:18:18.982105Z",
     "shell.execute_reply": "2025-06-05T20:18:18.981546Z"
    },
    "slideshow": {
     "slide_type": "fragment"
    },
    "tags": []
   },
   "outputs": [],
   "source": [
    "if config.username:\n",
    "    qc_emu_fresnel = deepcopy(qc)\n",
    "\n",
    "    provider_emu_fresnel = PasqalProvider(remote_config=config)\n",
    "    backend_emu_fresnel = provider_emu_fresnel.get_backend(\"remote-emu-fresnel\")\n",
    "    sampler_emu_fresnel = Sampler(backend_emu_fresnel)\n",
    "    results_emu_fresnel = sampler_emu_fresnel.run([qc_emu_fresnel], shots=400).result()\n",
    "\n",
    "    res_rem_mps = results_emu_fresnel[0].data.counts"
   ]
  },
  {
   "cell_type": "markdown",
   "id": "e4542d9e-2cb4-4ba0-ae34-59a0d035ec4d",
   "metadata": {
    "editable": true,
    "slideshow": {
     "slide_type": "slide"
    },
    "tags": []
   },
   "source": [
    "### Comparison between backends\n",
    "\n",
    "The plot below compares the bitstrings from each of the backends run above.\n",
    "\n",
    "Note that `Emu-Fresnel` (a remote backend that emulates the Fresnel device specs) run with less shots than the others, which may result in bigger variances."
   ]
  },
  {
   "cell_type": "code",
   "execution_count": 29,
   "id": "79970e40-6858-4c4b-9964-94394b6fb23f",
   "metadata": {
    "editable": true,
    "execution": {
     "iopub.execute_input": "2025-06-05T20:18:18.983941Z",
     "iopub.status.busy": "2025-06-05T20:18:18.983760Z",
     "iopub.status.idle": "2025-06-05T20:18:18.988648Z",
     "shell.execute_reply": "2025-06-05T20:18:18.988022Z"
    },
    "jupyter": {
     "source_hidden": true
    },
    "slideshow": {
     "slide_type": "skip"
    },
    "tags": []
   },
   "outputs": [],
   "source": [
    "def get_kv(data):\n",
    "    _a = ()\n",
    "    _b = ()\n",
    "    _total = sum(data.values())\n",
    "    for k, v in data.items():\n",
    "        _a += (k,)\n",
    "        _b += (v / _total,)\n",
    "    return _a, _b\n",
    "\n",
    "\n",
    "def get_counter(*dataset):\n",
    "    _ks = dict()\n",
    "    _ds = []\n",
    "\n",
    "    for p in dataset:\n",
    "        _k, _d = get_kv(p)\n",
    "        _ds.append(dict(zip(_k, _d)))\n",
    "        for _w, _t in p.items():\n",
    "            if _w in _ks:\n",
    "                _ks[_w] += _t\n",
    "            else:\n",
    "                _ks[_w] = _t\n",
    "\n",
    "    for _x in _ds:\n",
    "        for _c in _ks:\n",
    "            if _c not in _x:\n",
    "                _x[_c] = 0.0\n",
    "\n",
    "    _ks = dict(sorted(_ks.items(), key=lambda _y: _y[1], reverse=True))\n",
    "    return [{k: d[k] for k in _ks} for d in _ds], _ks"
   ]
  },
  {
   "cell_type": "code",
   "execution_count": 30,
   "id": "43195e35-6e75-45da-b5be-f552164c59bb",
   "metadata": {
    "editable": true,
    "execution": {
     "iopub.execute_input": "2025-06-05T20:18:18.990447Z",
     "iopub.status.busy": "2025-06-05T20:18:18.990264Z",
     "iopub.status.idle": "2025-06-05T20:18:18.994575Z",
     "shell.execute_reply": "2025-06-05T20:18:18.993950Z"
    },
    "jupyter": {
     "source_hidden": true
    },
    "slideshow": {
     "slide_type": "skip"
    },
    "tags": []
   },
   "outputs": [],
   "source": [
    "def comparison_plot(data, size=5):\n",
    "    fig = plt.figure(figsize=(12, 7))\n",
    "    w = 0.1\n",
    "\n",
    "    ax = fig.add_subplot(111)\n",
    "\n",
    "    x_data = np.array(range(len(data[0])))[:size]\n",
    "\n",
    "    for n, (k, v) in enumerate(\n",
    "        zip(srs, (\"pulser\", \"qutip\", \"emu-mps\", \"emu-free\", \"emu-fresnel\"))\n",
    "    ):\n",
    "        plt.bar(\n",
    "            x_data - 2 * w + (n * w), list(k.values())[:size], w, label=v, align=\"edge\"\n",
    "        )\n",
    "\n",
    "    plt.title(\"Comparison between backends results\")\n",
    "    plt.ylabel(\"Probability distribution\")\n",
    "    plt.xlabel(\"Bitstring\")\n",
    "    plt.xticks(np.arange(0, size), list(data[0])[:size])\n",
    "    plt.legend()\n",
    "    plt.show()"
   ]
  },
  {
   "cell_type": "code",
   "execution_count": 31,
   "id": "d8ef372b-716f-402c-9a61-b43e376e7ce7",
   "metadata": {
    "editable": true,
    "execution": {
     "iopub.execute_input": "2025-06-05T20:18:18.996437Z",
     "iopub.status.busy": "2025-06-05T20:18:18.996246Z",
     "iopub.status.idle": "2025-06-05T20:18:18.999254Z",
     "shell.execute_reply": "2025-06-05T20:18:18.998637Z"
    },
    "slideshow": {
     "slide_type": "skip"
    },
    "tags": []
   },
   "outputs": [],
   "source": [
    "srs, crc = get_counter(pulser_res, res_qutip, res_mps)  # , res_free, res_rem_mps)"
   ]
  },
  {
   "cell_type": "code",
   "execution_count": 32,
   "id": "54c40b38-f21d-414b-9abe-6576768f7075",
   "metadata": {
    "editable": true,
    "execution": {
     "iopub.execute_input": "2025-06-05T20:18:19.001029Z",
     "iopub.status.busy": "2025-06-05T20:18:19.000850Z",
     "iopub.status.idle": "2025-06-05T20:18:19.184128Z",
     "shell.execute_reply": "2025-06-05T20:18:19.183404Z"
    },
    "slideshow": {
     "slide_type": "fragment"
    },
    "tags": []
   },
   "outputs": [
    {
     "data": {
      "image/png": "[encoded data removed]",
      "text/plain": [
       "<Figure size 1200x700 with 1 Axes>"
      ]
     },
     "metadata": {},
     "output_type": "display_data"
    }
   ],
   "source": [
    "comparison_plot(srs, 14)"
   ]
  },
  {
   "cell_type": "code",
   "execution_count": null,
   "id": "c8afa5d4-bbbb-461c-9f6b-c5bb1c17fb89",
   "metadata": {
    "editable": true,
    "slideshow": {
     "slide_type": "skip"
    },
    "tags": []
   },
   "outputs": [],
   "source": []
  },
  {
   "cell_type": "markdown",
   "id": "570aa9be-8251-4fc2-beaf-3bac5fd15f80",
   "metadata": {
    "editable": true,
    "slideshow": {
     "slide_type": "slide"
    },
    "tags": []
   },
   "source": [
    "### 3.6 QPU\n",
    "\n",
    "It is also possible to run the same circuit on the QPU (if it is available)."
   ]
  },
  {
   "cell_type": "raw",
   "id": "2e945bfa-723b-44e2-aae5-e5e48f36de9c",
   "metadata": {
    "editable": true,
    "raw_mimetype": "",
    "slideshow": {
     "slide_type": "fragment"
    },
    "tags": [],
    "vscode": {
     "languageId": "raw"
    }
   },
   "source": [
    "qc_qpu = deepcopy(qc)\n",
    "\n",
    "# provider_qpu = PasqalProvider(remote_config=config)\n",
    "# backend_qpu = provider_qpu.get_backend(\"fresnel\")\n",
    "# sampler_qpu = Sampler(backend_qpu)\n",
    "# results_qpu = sampler_qpu.run([qc_qpu], shots=100).result()\n",
    "\n",
    "# print(results_qpu[0].data.counts)"
   ]
  },
  {
   "cell_type": "code",
   "execution_count": null,
   "id": "0b00c4ff-b4de-4dfe-b2c1-f8effa16ff98",
   "metadata": {
    "editable": true,
    "slideshow": {
     "slide_type": ""
    },
    "tags": []
   },
   "outputs": [],
   "source": []
  }
 ],
 "metadata": {
  "kernelspec": {
   "display_name": "Python 3 (ipykernel)",
   "language": "python",
   "name": "python3"
  },
  "language_info": {
   "codemirror_mode": {
    "name": "ipython",
    "version": 3
   },
   "file_extension": ".py",
   "mimetype": "text/x-python",
   "name": "python",
   "nbconvert_exporter": "python",
   "pygments_lexer": "ipython3",
   "version": "3.12.10"
  }
 },
 "nbformat": 4,
 "nbformat_minor": 5
}
